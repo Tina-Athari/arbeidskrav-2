{
 "cells": [
  {
   "cell_type": "code",
   "execution_count": 1,
   "metadata": {},
   "outputs": [
    {
     "name": "stdout",
     "output_type": "stream",
     "text": [
      "Du blir 28 år i løpet av 2024.\n"
     ]
    }
   ],
   "source": [
    "#Oppg 1)\n",
    "alder = int(input(\"Hvilket år er du født?\"))\n",
    "\n",
    "alder_i_2024 = 2024 - alder\n",
    "\n",
    "print(f\"Du blir {alder_i_2024} år i løpet av 2024.\")\n",
    "\n",
    "\n"
   ]
  },
  {
   "cell_type": "code",
   "execution_count": null,
   "metadata": {},
   "outputs": [
    {
     "name": "stdout",
     "output_type": "stream",
     "text": [
      "Du trenger 6 pizzaer for 21 elever.\n"
     ]
    }
   ],
   "source": [
    "#Oppg 2)\n",
    "import math\n",
    "\n",
    "antall_elever = int(input(\"Skriv inn antall elever: \"))\n",
    "\n",
    "antall_pizzaer = antall_elever*0.25\n",
    "\n",
    "if antall_pizzaer % 1 != 0: #trenger egentlig ikke denne fordi ceiling gjør den sjekke for meg\n",
    "    antall_pizzaer = math.ceil(antall_pizzaer)\n",
    "\n",
    "print(f\"Du trenger {antall_pizzaer:0.0f} pizzaer for {antall_elever} elever.\")\n",
    "\n",
    "\n"
   ]
  },
  {
   "cell_type": "code",
   "execution_count": null,
   "metadata": {},
   "outputs": [
    {
     "name": "stdout",
     "output_type": "stream",
     "text": [
      "Gradtallet: 10.0, gir radiantallet: 0.17453292519943295\n",
      "Gradtallet: 1.0, gir radiantallet: 0.017453292519943295\n"
     ]
    }
   ],
   "source": [
    "#Oppg 3)\n",
    "import numpy as np\n",
    "\n",
    "def fra_grad_til_radianer():\n",
    "    v_grad = float(input(\"Skriv in gradtallet: \"))\n",
    "    v_rad = v_grad*np.pi/180\n",
    "    \n",
    "    print(f\"Gradtallet: {v_grad}, gir radiantallet: {v_rad}\")\n",
    "\n",
    "fra_grad_til_radianer()"
   ]
  },
  {
   "cell_type": "code",
   "execution_count": null,
   "metadata": {},
   "outputs": [
    {
     "name": "stdout",
     "output_type": "stream",
     "text": [
      "{'Norge': ['Oslo', 0.634], 'England': ['London', 8.982], 'Frankrike': ['Paris', 2.161], 'Italia': ['Roma', 2.873], 'Iran': ['Teheran', 21.32]}\n"
     ]
    }
   ],
   "source": [
    "#Oppg 4)\n",
    "\n",
    "data = {\n",
    "    \"Norge\": [\"Oslo\", 0.634],\n",
    "    \"England\": [\"London\", 8.982],\n",
    "    \"Frankrike\": [\"Paris\", 2.161],\n",
    "    \"Italia\": [\"Roma\", 2.873]\n",
    "}\n",
    "\n",
    "def program_1(ordbok):\n",
    "    inp_land = input(\"Oppgi et land: \").capitalize()\n",
    "\n",
    "    if inp_land in ordbok:\n",
    "        print(f\"{ordbok[inp_land][0]} er hovedstaden i {inp_land} og det er {ordbok[inp_land][1]} mill. innbyggere i {ordbok[inp_land][0]}\")\n",
    "    else:\n",
    "        print(f\"Jeg vet ingenting om {inp_land} dessverre.\")\n",
    "\n",
    "\n",
    "def program_2(ordbok):\n",
    "    inp_land = input(\"Oppgi et land: \").capitalize()\n",
    "\n",
    "    if inp_land in ordbok:\n",
    "        print(f\"{ordbok[inp_land][0]} er hovedstaden i {inp_land} og det er {ordbok[inp_land][1]} mill. innbyggere i {ordbok[inp_land][0]}\")\n",
    "    else:\n",
    "        info = []\n",
    "\n",
    "        hovedstad = input(f\"Oppgi hovedstaden til {inp_land}\")\n",
    "        info.append(hovedstad.capitalize())\n",
    "\n",
    "        ant_innbyggere = float(input(f\"Oppgi antall millioner innbyggere i {inp_land}\"))\n",
    "        info.append(ant_innbyggere)\n",
    "\n",
    "        ordbok[inp_land.capitalize()] = info\n",
    "        print(ordbok)\n",
    "    \n",
    "program_1(data)\n",
    "program_2(data)"
   ]
  },
  {
   "cell_type": "code",
   "execution_count": 46,
   "metadata": {},
   "outputs": [
    {
     "name": "stdout",
     "output_type": "stream",
     "text": [
      "Formens areal er: 2.5707963267948966\n",
      "Formens ytre omkrets er: 12.283185307179586\n"
     ]
    }
   ],
   "source": [
    "#Oppg 5)\n",
    "import math\n",
    "\n",
    "def areal_og_ytre_omkrets(a,b):\n",
    "    #areal av halvsirkelen:\n",
    "    r_sirkel = a/2\n",
    "    a_halv_sirkel = (math.pi*(r_sirkel**2))/2\n",
    "    #omkrets av halvsirkelen:\n",
    "    o_halv_sirkel = (2 * math.pi*(r_sirkel))\n",
    "\n",
    "    #areal av trekanten:\n",
    "    a_trekant = (a*b)/2\n",
    "    #omkrets trekanten (bare høyden og hypotenusen):\n",
    "    hypotenus = a**2 + b**2\n",
    "    o_to_sider_av_trekanten = hypotenus + b\n",
    "\n",
    "\n",
    "    #areal hele formen:\n",
    "    a_hele_formen = a_halv_sirkel + a_trekant\n",
    "\n",
    "    #omkrets hele formen:\n",
    "    o_hele_formen = o_halv_sirkel + o_to_sider_av_trekanten\n",
    "\n",
    "\n",
    "    return f\"Formens areal er: {a_hele_formen}\\nFormens ytre omkrets er: {o_hele_formen}\"\n",
    "\n",
    "print(areal_og_ytre_omkrets(2,1))\n"
   ]
  },
  {
   "cell_type": "code",
   "execution_count": null,
   "metadata": {},
   "outputs": [],
   "source": [
    "import numpy\n",
    "\n"
   ]
  }
 ],
 "metadata": {
  "kernelspec": {
   "display_name": "Python 3",
   "language": "python",
   "name": "python3"
  },
  "language_info": {
   "codemirror_mode": {
    "name": "ipython",
    "version": 3
   },
   "file_extension": ".py",
   "mimetype": "text/x-python",
   "name": "python",
   "nbconvert_exporter": "python",
   "pygments_lexer": "ipython3",
   "version": "3.11.5"
  }
 },
 "nbformat": 4,
 "nbformat_minor": 2
}
